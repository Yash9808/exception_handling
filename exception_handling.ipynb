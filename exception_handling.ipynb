{
 "cells": [
  {
   "cell_type": "code",
   "execution_count": 2,
   "metadata": {},
   "outputs": [
    {
     "data": {
      "text/plain": [
       "['__breakpointhook__',\n",
       " '__displayhook__',\n",
       " '__doc__',\n",
       " '__excepthook__',\n",
       " '__interactivehook__',\n",
       " '__loader__',\n",
       " '__name__',\n",
       " '__package__',\n",
       " '__spec__',\n",
       " '__stderr__',\n",
       " '__stdin__',\n",
       " '__stdout__',\n",
       " '_clear_type_cache',\n",
       " '_current_frames',\n",
       " '_debugmallocstats',\n",
       " '_enablelegacywindowsfsencoding',\n",
       " '_framework',\n",
       " '_getframe',\n",
       " '_git',\n",
       " '_home',\n",
       " '_xoptions',\n",
       " 'api_version',\n",
       " 'argv',\n",
       " 'base_exec_prefix',\n",
       " 'base_prefix',\n",
       " 'breakpointhook',\n",
       " 'builtin_module_names',\n",
       " 'byteorder',\n",
       " 'call_tracing',\n",
       " 'callstats',\n",
       " 'copyright',\n",
       " 'displayhook',\n",
       " 'dllhandle',\n",
       " 'dont_write_bytecode',\n",
       " 'exc_info',\n",
       " 'excepthook',\n",
       " 'exec_prefix',\n",
       " 'executable',\n",
       " 'exit',\n",
       " 'flags',\n",
       " 'float_info',\n",
       " 'float_repr_style',\n",
       " 'get_asyncgen_hooks',\n",
       " 'get_coroutine_origin_tracking_depth',\n",
       " 'get_coroutine_wrapper',\n",
       " 'getallocatedblocks',\n",
       " 'getcheckinterval',\n",
       " 'getdefaultencoding',\n",
       " 'getfilesystemencodeerrors',\n",
       " 'getfilesystemencoding',\n",
       " 'getprofile',\n",
       " 'getrecursionlimit',\n",
       " 'getrefcount',\n",
       " 'getsizeof',\n",
       " 'getswitchinterval',\n",
       " 'gettrace',\n",
       " 'getwindowsversion',\n",
       " 'hash_info',\n",
       " 'hexversion',\n",
       " 'implementation',\n",
       " 'int_info',\n",
       " 'intern',\n",
       " 'is_finalizing',\n",
       " 'last_traceback',\n",
       " 'last_type',\n",
       " 'last_value',\n",
       " 'maxsize',\n",
       " 'maxunicode',\n",
       " 'meta_path',\n",
       " 'modules',\n",
       " 'path',\n",
       " 'path_hooks',\n",
       " 'path_importer_cache',\n",
       " 'platform',\n",
       " 'prefix',\n",
       " 'ps1',\n",
       " 'ps2',\n",
       " 'ps3',\n",
       " 'set_asyncgen_hooks',\n",
       " 'set_coroutine_origin_tracking_depth',\n",
       " 'set_coroutine_wrapper',\n",
       " 'setcheckinterval',\n",
       " 'setprofile',\n",
       " 'setrecursionlimit',\n",
       " 'setswitchinterval',\n",
       " 'settrace',\n",
       " 'stderr',\n",
       " 'stdin',\n",
       " 'stdout',\n",
       " 'thread_info',\n",
       " 'version',\n",
       " 'version_info',\n",
       " 'warnoptions',\n",
       " 'winver']"
      ]
     },
     "execution_count": 2,
     "metadata": {},
     "output_type": "execute_result"
    }
   ],
   "source": [
    "# import module sys to get the type of exception\n",
    "import sys\n",
    "\n",
    "\n",
    "dir(sys)\n",
    "        "
   ]
  },
  {
   "cell_type": "code",
   "execution_count": 4,
   "metadata": {},
   "outputs": [
    {
     "name": "stdout",
     "output_type": "stream",
     "text": [
      "value of a:8\n",
      "value of b:8\n",
      "value again please!:\n"
     ]
    }
   ],
   "source": [
    "try:\n",
    "    a=int(input(\"value of a:\"))\n",
    "    b=int(input(\"value of b:\"))\n",
    "    x=a-b\n",
    "    x1=a+b\n",
    "    \n",
    "    if x==0 or x1<=100:\n",
    "          raise\n",
    "except:\n",
    "    print(\"value again please!:\")\n",
    "else:\n",
    "        print(x,x1)\n",
    "        print (\"no error\")"
   ]
  },
  {
   "cell_type": "code",
   "execution_count": 3,
   "metadata": {},
   "outputs": [
    {
     "name": "stdout",
     "output_type": "stream",
     "text": [
      "enter the value a:21\n",
      "4.58257569495584\n"
     ]
    }
   ],
   "source": [
    "import math\n",
    "try:\n",
    "    a=int(input(\"enter the value a:\"))\n",
    "\n",
    "    if a == 0:\n",
    "         raise \n",
    "except :\n",
    "        print(\"vallue again please\")\n",
    "else:\n",
    "         print(math.sqrt(a))"
   ]
  },
  {
   "cell_type": "code",
   "execution_count": 10,
   "metadata": {},
   "outputs": [
    {
     "name": "stdout",
     "output_type": "stream",
     "text": [
      "value of a:90\n",
      "value of b:60\n",
      "150\n",
      "enter\n"
     ]
    }
   ],
   "source": [
    " try:\n",
    "    a=int(input(\"value of a:\"))\n",
    "    b=int(input(\"value of b:\"))\n",
    "    x=a+b\n",
    "    print(x)\n",
    "    if a>=50 and b>=50:\n",
    "        raise RuntimeError(\"please give values below 50 for both\")\n",
    "      \n",
    "    \n",
    "except:\n",
    "    print(\"enter\")\n",
    "    "
   ]
  },
  {
   "cell_type": "code",
   "execution_count": 20,
   "metadata": {},
   "outputs": [
    {
     "name": "stdout",
     "output_type": "stream",
     "text": [
      "Enter a:12\n",
      "Enter b:0\n",
      "<class 'type'>\n",
      "can't divide by zero\n",
      "please enetr the value again\n"
     ]
    }
   ],
   "source": [
    "try:  \n",
    "    a = int(input(\"Enter a:\"))  \n",
    "    b = int(input(\"Enter b:\"))\n",
    "    c = a/b \n",
    "    print(\"a/b =\",c)  \n",
    "except Exception:  \n",
    "    print(\"can't divide by zero\")\n",
    "    print(\"please enetr the value again\")\n",
    "else:  \n",
    "    print(\"Hi I am else block\")   "
   ]
  },
  {
   "cell_type": "code",
   "execution_count": 3,
   "metadata": {},
   "outputs": [
    {
     "name": "stdout",
     "output_type": "stream",
     "text": [
      "value of c:0\n",
      "value of b:9\n",
      "Arithmetic Exception\n"
     ]
    }
   ],
   "source": [
    "try: \n",
    "    c=int(input(\"value of c:\"))\n",
    "    b=int(input(\"value of b:\"))\n",
    "    a=b/c   \n",
    "except:    \n",
    "    print (\"Arithmetic Exception\" )   \n",
    "else:    \n",
    "    print (\"Successfully Done\" ,a) "
   ]
  },
  {
   "cell_type": "code",
   "execution_count": 3,
   "metadata": {},
   "outputs": [
    {
     "name": "stdout",
     "output_type": "stream",
     "text": [
      "Enter a?5\n",
      "Enter b?5\n",
      "The value of b can't be 0\n"
     ]
    }
   ],
   "source": [
    " try:  \n",
    "    a = int(input(\"Enter a?\"))  \n",
    "    b = int(input(\"Enter b?\"))  \n",
    "    a is b\n",
    "    raise\n",
    "        \n",
    "        \n",
    "except :  \n",
    "    print(\"The value of b can't be 0\")\n",
    "    \n",
    "else:  \n",
    "        print(\"a/b = \",a/b) "
   ]
  },
  {
   "cell_type": "code",
   "execution_count": 2,
   "metadata": {},
   "outputs": [
    {
     "name": "stdout",
     "output_type": "stream",
     "text": [
      "value of a:21\n",
      "value of b:89\n",
      "both value cant be same please eneter value \n"
     ]
    }
   ],
   "source": [
    "try:\n",
    "    a=int(input(\"value of a:\"))\n",
    "    b=int(input(\"value of b:\"))\n",
    "    x=a-b\n",
    "    c=[1,2,3,4,5]\n",
    "    if x in c:\n",
    "          raise            \n",
    "except :  \n",
    "    print(\"both value cant be same please eneter value \")\n",
    "    \n",
    "else:\n",
    "        print(\"value sub:\",x)"
   ]
  },
  {
   "cell_type": "code",
   "execution_count": 4,
   "metadata": {},
   "outputs": [
    {
     "name": "stdout",
     "output_type": "stream",
     "text": [
      "enter a number:6\n",
      "enter a number:0\n",
      "exception occurs\n",
      "i will be executed always\n"
     ]
    }
   ],
   "source": [
    "#Exception\n",
    "\n",
    "a=int(input(\"enter a number:\"))\n",
    "b=int(input(\"enter a number:\"))\n",
    "try:\n",
    "    c=a/b\n",
    "    print(c)\n",
    "except :\n",
    "    print(\"exception occurs\")\n",
    "#except ArithmeticError:\n",
    "    \n",
    "finally:\n",
    "    print(\"i will be executed always\")\n",
    "#try,except-,raise-throw the xeception,finally-always execute"
   ]
  },
  {
   "cell_type": "code",
   "execution_count": 8,
   "metadata": {},
   "outputs": [],
   "source": [
    "def ask_for_int():\n",
    "    \n",
    "    while True:\n",
    "        try:\n",
    "            a=int(input(\"enter the number:\"))\n",
    "            print(a)\n",
    "            \n",
    "        except :\n",
    "            print(\"Value error :\")\n",
    "            \n",
    "        finally:\n",
    "            print(\"I beg u always to give right input\")\n",
    "            break"
   ]
  },
  {
   "cell_type": "code",
   "execution_count": 9,
   "metadata": {},
   "outputs": [
    {
     "name": "stdout",
     "output_type": "stream",
     "text": [
      "enter the number:e\n",
      "Value error :\n",
      "I beg u always to give right input\n"
     ]
    }
   ],
   "source": [
    "ask_for_int()"
   ]
  },
  {
   "cell_type": "code",
   "execution_count": 10,
   "metadata": {},
   "outputs": [],
   "source": [
    "y=[1,2,3,4]\n",
    "import functools as ft\n",
    "def add():\n",
    "    k=ft.reduce(lambda x,a:x+a,y)\n",
    "    try:\n",
    "        if k>100:\n",
    "            raise\n",
    "    except:\n",
    "        print(\"value greater than 100\")\n",
    "    else:\n",
    "        print(\"addition of list:\",k)\n",
    "    \n",
    "def sub():\n",
    "    k=ft.reduce(lambda x,a:x-a,y)\n",
    "    try:\n",
    "        if k>0:\n",
    "            raise\n",
    "    except:\n",
    "        print(\"value less than \")\n",
    "    else:\n",
    "        print(\"sub of list:\",k)"
   ]
  },
  {
   "cell_type": "code",
   "execution_count": 11,
   "metadata": {},
   "outputs": [
    {
     "name": "stdout",
     "output_type": "stream",
     "text": [
      "addition of list: 10\n"
     ]
    }
   ],
   "source": [
    "add()"
   ]
  },
  {
   "cell_type": "code",
   "execution_count": 12,
   "metadata": {},
   "outputs": [
    {
     "name": "stdout",
     "output_type": "stream",
     "text": [
      "sub of list: -8\n"
     ]
    }
   ],
   "source": [
    "sub()"
   ]
  },
  {
   "cell_type": "code",
   "execution_count": null,
   "metadata": {},
   "outputs": [],
   "source": []
  }
 ],
 "metadata": {
  "kernelspec": {
   "display_name": "Python 3",
   "language": "python",
   "name": "python3"
  },
  "language_info": {
   "codemirror_mode": {
    "name": "ipython",
    "version": 3
   },
   "file_extension": ".py",
   "mimetype": "text/x-python",
   "name": "python",
   "nbconvert_exporter": "python",
   "pygments_lexer": "ipython3",
   "version": "3.7.1"
  }
 },
 "nbformat": 4,
 "nbformat_minor": 2
}
